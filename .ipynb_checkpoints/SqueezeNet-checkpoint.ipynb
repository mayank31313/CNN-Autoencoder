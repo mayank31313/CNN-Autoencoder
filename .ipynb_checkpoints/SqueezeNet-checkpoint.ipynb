{
 "cells": [
  {
   "cell_type": "code",
   "execution_count": 1,
   "metadata": {},
   "outputs": [
    {
     "name": "stderr",
     "output_type": "stream",
     "text": [
      "Using TensorFlow backend.\n"
     ]
    }
   ],
   "source": [
    "from keras.layers import *\n",
    "from keras.models import Model, Sequential, load_model\n",
    "from keras.losses import logcosh\n",
    "#from keras import backend as K\n",
    "#import tensorflow as tf\n",
    "\n",
    "in_height = 360\n",
    "in_width =  640\n",
    "\n",
    "out_height = 720\n",
    "out_width = 1280\n",
    "\n",
    "#out_height = in_height\n",
    "#out_width = in_width"
   ]
  },
  {
   "cell_type": "code",
   "execution_count": 2,
   "metadata": {},
   "outputs": [],
   "source": [
    "sq1x1 = \"squeeze1x1\"\n",
    "exp1x1 = \"expand1x1\"\n",
    "exp3x3 = \"expand3x3\"\n",
    "relu = \"relu_\"\n",
    "\n",
    "from keras.constraints import maxnorm\n",
    "\n",
    "def fire_module(x, fire_id, channels):\n",
    "    s_id = 'fire' + str(fire_id) + '/'\n",
    "    x = Conv2D(channels, (1, 1), padding='same', name=s_id + sq1x1,kernel_constraint=maxnorm(3))(x)\n",
    "    x = Activation('relu', name=s_id + relu + sq1x1)(x)\n",
    "    \n",
    "    left = Conv2D(channels//2, (1, 1), padding='same', name=s_id + exp1x1,kernel_constraint=maxnorm(3))(x)\n",
    "    left = Activation('relu', name=s_id + relu + exp1x1)(left)\n",
    "\n",
    "    right = Conv2D(channels//2, (3, 3), padding='same', name=s_id + exp3x3,kernel_constraint=maxnorm(3))(x)\n",
    "    right = Activation('relu', name=s_id + relu + exp3x3)(right)\n",
    "\n",
    "    x = concatenate([left, right], axis=3, name=s_id + 'concat')\n",
    "    return x\n",
    "\n",
    "def reconstruct_module(x, fire_id, squeeze=16, expand=64):\n",
    "    s_id = 'fire' + str(fire_id) + '/'\n",
    "    x = Conv2DTranspose(squeeze, (1, 1), padding='valid', name=s_id + sq1x1,strides=2)(x)\n",
    "    x = Activation('relu', name=s_id + relu + sq1x1)(x)\n",
    "\n",
    "    left = Convolution2D(expand, (1, 1), padding='valid', name=s_id + exp1x1)(x)\n",
    "    left = Activation('relu', name=s_id + relu + exp1x1)(left)\n",
    "\n",
    "    right = Convolution2D(expand, (3, 3), padding='same', name=s_id + exp3x3)(x)\n",
    "    right = Activation('relu', name=s_id + relu + exp3x3)(right)\n",
    "\n",
    "    x = concatenate([left, right], axis=3, name=s_id + 'concat')\n",
    "    return x"
   ]
  },
  {
   "cell_type": "code",
   "execution_count": 9,
   "metadata": {},
   "outputs": [
    {
     "name": "stdout",
     "output_type": "stream",
     "text": [
      "Model: \"squeezenet\"\n",
      "__________________________________________________________________________________________________\n",
      "Layer (type)                    Output Shape         Param #     Connected to                     \n",
      "==================================================================================================\n",
      "input_5 (InputLayer)            (None, 360, 640, 3)  0                                            \n",
      "__________________________________________________________________________________________________\n",
      "fire1/squeeze1x1 (Conv2D)       (None, 360, 640, 4)  16          input_5[0][0]                    \n",
      "__________________________________________________________________________________________________\n",
      "fire1/relu_squeeze1x1 (Activati (None, 360, 640, 4)  0           fire1/squeeze1x1[0][0]           \n",
      "__________________________________________________________________________________________________\n",
      "fire1/expand1x1 (Conv2D)        (None, 360, 640, 2)  10          fire1/relu_squeeze1x1[0][0]      \n",
      "__________________________________________________________________________________________________\n",
      "fire1/expand3x3 (Conv2D)        (None, 360, 640, 2)  74          fire1/relu_squeeze1x1[0][0]      \n",
      "__________________________________________________________________________________________________\n",
      "fire1/relu_expand1x1 (Activatio (None, 360, 640, 2)  0           fire1/expand1x1[0][0]            \n",
      "__________________________________________________________________________________________________\n",
      "fire1/relu_expand3x3 (Activatio (None, 360, 640, 2)  0           fire1/expand3x3[0][0]            \n",
      "__________________________________________________________________________________________________\n",
      "fire1/concat (Concatenate)      (None, 360, 640, 4)  0           fire1/relu_expand1x1[0][0]       \n",
      "                                                                 fire1/relu_expand3x3[0][0]       \n",
      "__________________________________________________________________________________________________\n",
      "pool1 (AveragePooling2D)        (None, 180, 320, 4)  0           fire1/concat[0][0]               \n",
      "__________________________________________________________________________________________________\n",
      "fire2/squeeze1x1 (Conv2D)       (None, 180, 320, 8)  40          pool1[0][0]                      \n",
      "__________________________________________________________________________________________________\n",
      "fire2/relu_squeeze1x1 (Activati (None, 180, 320, 8)  0           fire2/squeeze1x1[0][0]           \n",
      "__________________________________________________________________________________________________\n",
      "fire2/expand1x1 (Conv2D)        (None, 180, 320, 4)  36          fire2/relu_squeeze1x1[0][0]      \n",
      "__________________________________________________________________________________________________\n",
      "fire2/expand3x3 (Conv2D)        (None, 180, 320, 4)  292         fire2/relu_squeeze1x1[0][0]      \n",
      "__________________________________________________________________________________________________\n",
      "fire2/relu_expand1x1 (Activatio (None, 180, 320, 4)  0           fire2/expand1x1[0][0]            \n",
      "__________________________________________________________________________________________________\n",
      "fire2/relu_expand3x3 (Activatio (None, 180, 320, 4)  0           fire2/expand3x3[0][0]            \n",
      "__________________________________________________________________________________________________\n",
      "fire2/concat (Concatenate)      (None, 180, 320, 8)  0           fire2/relu_expand1x1[0][0]       \n",
      "                                                                 fire2/relu_expand3x3[0][0]       \n",
      "__________________________________________________________________________________________________\n",
      "pool2 (AveragePooling2D)        (None, 90, 160, 8)   0           fire2/concat[0][0]               \n",
      "__________________________________________________________________________________________________\n",
      "fire3/squeeze1x1 (Conv2D)       (None, 90, 160, 16)  144         pool2[0][0]                      \n",
      "__________________________________________________________________________________________________\n",
      "fire3/relu_squeeze1x1 (Activati (None, 90, 160, 16)  0           fire3/squeeze1x1[0][0]           \n",
      "__________________________________________________________________________________________________\n",
      "fire3/expand1x1 (Conv2D)        (None, 90, 160, 8)   136         fire3/relu_squeeze1x1[0][0]      \n",
      "__________________________________________________________________________________________________\n",
      "fire3/expand3x3 (Conv2D)        (None, 90, 160, 8)   1160        fire3/relu_squeeze1x1[0][0]      \n",
      "__________________________________________________________________________________________________\n",
      "fire3/relu_expand1x1 (Activatio (None, 90, 160, 8)   0           fire3/expand1x1[0][0]            \n",
      "__________________________________________________________________________________________________\n",
      "fire3/relu_expand3x3 (Activatio (None, 90, 160, 8)   0           fire3/expand3x3[0][0]            \n",
      "__________________________________________________________________________________________________\n",
      "fire3/concat (Concatenate)      (None, 90, 160, 16)  0           fire3/relu_expand1x1[0][0]       \n",
      "                                                                 fire3/relu_expand3x3[0][0]       \n",
      "__________________________________________________________________________________________________\n",
      "average_pooling2d_4 (AveragePoo (None, 45, 80, 16)   0           fire3/concat[0][0]               \n",
      "__________________________________________________________________________________________________\n",
      "flatten_5 (Flatten)             (None, 57600)        0           average_pooling2d_4[0][0]        \n",
      "==================================================================================================\n",
      "Total params: 1,908\n",
      "Trainable params: 1,908\n",
      "Non-trainable params: 0\n",
      "__________________________________________________________________________________________________\n"
     ]
    }
   ],
   "source": [
    "img_input = Input(shape=(in_height,in_width,3))\n",
    "\n",
    "\n",
    "x = fire_module(img_input, fire_id=1, channels=4)\n",
    "x = AveragePooling2D(pool_size=(2,2), name='pool1')(x)\n",
    " \n",
    "x = fire_module(x, fire_id=2, channels=8)\n",
    "x = AveragePooling2D(pool_size=(2,2), name='pool2')(x)\n",
    "\n",
    "x = fire_module(x, fire_id=3, channels=16)\n",
    "x = AveragePooling2D(pool_size=(2,2),padding=\"same\")(x)\n",
    "\n",
    "out = Flatten()(x)\n",
    " \n",
    "model = Model(img_input, out, name='squeezenet')\n",
    "model.summary()\n",
    "\n",
    "model.compile(loss=logcosh,optimizer=\"adam\",metrics=['acc'])"
   ]
  },
  {
   "cell_type": "code",
   "execution_count": 4,
   "metadata": {},
   "outputs": [],
   "source": [
    "import numpy as np\n",
    "\n",
    "X_train,y_train = np.load(\"images.npy\"),np.load(\"encoded_output.npy\")"
   ]
  },
  {
   "cell_type": "code",
   "execution_count": null,
   "metadata": {},
   "outputs": [
    {
     "name": "stdout",
     "output_type": "stream",
     "text": [
      "Epoch 1/50\n",
      "128/888 [===>..........................] - ETA: 2:10 - loss: 236.5458 - acc: 0.0078    "
     ]
    }
   ],
   "source": [
    "from IPython.display import clear_output\n",
    "\n",
    "for i in range(200):    \n",
    "    hist = model.fit(X_train,y_train,batch_size=32,epochs=50)\n",
    "    clear_output()\n",
    "    print(hist)\n",
    "    model.save(\"squeeze-net-initial.h5\")"
   ]
  },
  {
   "cell_type": "code",
   "execution_count": null,
   "metadata": {},
   "outputs": [],
   "source": [
    "from keras.preprocessing.image import ImageDataGenerator\n",
    "\n",
    "from keras.optimizers import Adam, Adadelta\n",
    "\n",
    "datagen = ImageDataGenerator(featurewise_center=False, featurewise_std_normalization=False,horizontal_flip=True,vertical_flip=True)\n",
    "#for X_, Y_ in datagen.flow(X,Y, batch_size=256):\n",
    "#autoencoder.fit_generator(getData(8),epochs=10,samples_per_epoch=50)\n",
    "#autoencoder.compile(optimizer='adam', loss='mean_absolute_error',metrics=['acc'])\n",
    "\n",
    "for X_, Y_ in getData(256):\n",
    "    #X_,_ = datagen.flow(X_,X_,batch_size=256)\n",
    "    hist = autoencoder_model.fit(X_, Y_,\n",
    "                epochs=10,\n",
    "                batch_size=16,validation_data=(x_valid,y_valid),shuffle=True)\n",
    "    clear_output()\n",
    "    val_accuracy = hist.history['val_acc']\n",
    "    print(val_accuracy)\n",
    "    autoencoder_model.save('SqueezeNet-%dx%d-%dx%d.h5'%(in_height,in_width,out_height,out_width))\n",
    "    autoencoder_model.save_weights('SqueezeNet-%dx%d-%dx%d.h5'%(in_height,in_width,out_height,out_width))\n",
    "    print(\"Saved model to disk\")"
   ]
  }
 ],
 "metadata": {
  "kernelspec": {
   "display_name": "Python 3",
   "language": "python",
   "name": "python3"
  },
  "language_info": {
   "codemirror_mode": {
    "name": "ipython",
    "version": 3
   },
   "file_extension": ".py",
   "mimetype": "text/x-python",
   "name": "python",
   "nbconvert_exporter": "python",
   "pygments_lexer": "ipython3",
   "version": "3.7.5"
  }
 },
 "nbformat": 4,
 "nbformat_minor": 4
}

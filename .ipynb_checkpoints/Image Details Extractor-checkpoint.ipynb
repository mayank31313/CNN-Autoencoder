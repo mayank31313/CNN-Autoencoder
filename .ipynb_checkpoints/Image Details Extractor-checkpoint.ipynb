{
 "cells": [
  {
   "cell_type": "code",
   "execution_count": 2,
   "metadata": {},
   "outputs": [],
   "source": [
    "import os\n",
    "import pandas as pd\n",
    "import cv2"
   ]
  },
  {
   "cell_type": "code",
   "execution_count": null,
   "metadata": {},
   "outputs": [],
   "source": [
    "df = pd.DataFrame()\n",
    "image_paths = os.listdir('E:/extended-crowdsourced-images-1/crowdsource_images-00001-of-00010/')\n",
    "image_heights = list()\n",
    "image_width = list()\n",
    "\n",
    "for path in image_paths:\n",
    "    image = cv2.imread('E:/extended-crowdsourced-images-1/crowdsource_images-00001-of-00010/' + path)\n",
    "    if image is None:\n",
    "        image_heights.append(0)\n",
    "        image_width.append(0)\n",
    "        continue;\n",
    "    height,width,channel = image.shape\n",
    "    image_heights.append(height)\n",
    "    image_width.append(width)\n",
    "\n",
    "df[\"Path\"] = image_paths\n",
    "df[\"Height\"] = image_heights\n",
    "df[\"Width\"] = image_width"
   ]
  },
  {
   "cell_type": "code",
   "execution_count": 8,
   "metadata": {},
   "outputs": [
    {
     "data": {
      "text/html": [
       "<div>\n",
       "<style scoped>\n",
       "    .dataframe tbody tr th:only-of-type {\n",
       "        vertical-align: middle;\n",
       "    }\n",
       "\n",
       "    .dataframe tbody tr th {\n",
       "        vertical-align: top;\n",
       "    }\n",
       "\n",
       "    .dataframe thead th {\n",
       "        text-align: right;\n",
       "    }\n",
       "</style>\n",
       "<table border=\"1\" class=\"dataframe\">\n",
       "  <thead>\n",
       "    <tr style=\"text-align: right;\">\n",
       "      <th></th>\n",
       "      <th>Path</th>\n",
       "      <th>Height</th>\n",
       "      <th>Width</th>\n",
       "      <th>ParentPath</th>\n",
       "    </tr>\n",
       "  </thead>\n",
       "  <tbody>\n",
       "    <tr>\n",
       "      <th>0</th>\n",
       "      <td>extended-crowdsourced-images-1\\crowdsource_ima...</td>\n",
       "      <td>720</td>\n",
       "      <td>960</td>\n",
       "      <td>extended-crowdsourced-images-1\\crowdsource_ima...</td>\n",
       "    </tr>\n",
       "    <tr>\n",
       "      <th>1</th>\n",
       "      <td>extended-crowdsourced-images-1\\crowdsource_ima...</td>\n",
       "      <td>1600</td>\n",
       "      <td>1200</td>\n",
       "      <td>extended-crowdsourced-images-1\\crowdsource_ima...</td>\n",
       "    </tr>\n",
       "    <tr>\n",
       "      <th>2</th>\n",
       "      <td>extended-crowdsourced-images-1\\crowdsource_ima...</td>\n",
       "      <td>1600</td>\n",
       "      <td>1200</td>\n",
       "      <td>extended-crowdsourced-images-1\\crowdsource_ima...</td>\n",
       "    </tr>\n",
       "    <tr>\n",
       "      <th>3</th>\n",
       "      <td>extended-crowdsourced-images-1\\crowdsource_ima...</td>\n",
       "      <td>183</td>\n",
       "      <td>275</td>\n",
       "      <td>extended-crowdsourced-images-1\\crowdsource_ima...</td>\n",
       "    </tr>\n",
       "    <tr>\n",
       "      <th>4</th>\n",
       "      <td>extended-crowdsourced-images-1\\crowdsource_ima...</td>\n",
       "      <td>1600</td>\n",
       "      <td>1200</td>\n",
       "      <td>extended-crowdsourced-images-1\\crowdsource_ima...</td>\n",
       "    </tr>\n",
       "  </tbody>\n",
       "</table>\n",
       "</div>"
      ],
      "text/plain": [
       "                                                Path  Height  Width  \\\n",
       "0  extended-crowdsourced-images-1\\crowdsource_ima...     720    960   \n",
       "1  extended-crowdsourced-images-1\\crowdsource_ima...    1600   1200   \n",
       "2  extended-crowdsourced-images-1\\crowdsource_ima...    1600   1200   \n",
       "3  extended-crowdsourced-images-1\\crowdsource_ima...     183    275   \n",
       "4  extended-crowdsourced-images-1\\crowdsource_ima...    1600   1200   \n",
       "\n",
       "                                          ParentPath  \n",
       "0  extended-crowdsourced-images-1\\crowdsource_ima...  \n",
       "1  extended-crowdsourced-images-1\\crowdsource_ima...  \n",
       "2  extended-crowdsourced-images-1\\crowdsource_ima...  \n",
       "3  extended-crowdsourced-images-1\\crowdsource_ima...  \n",
       "4  extended-crowdsourced-images-1\\crowdsource_ima...  "
      ]
     },
     "execution_count": 8,
     "metadata": {},
     "output_type": "execute_result"
    }
   ],
   "source": [
    "df.head()"
   ]
  },
  {
   "cell_type": "code",
   "execution_count": 10,
   "metadata": {},
   "outputs": [],
   "source": [
    "df = pd.read_csv(\"./image_data.csv\")"
   ]
  },
  {
   "cell_type": "code",
   "execution_count": 11,
   "metadata": {},
   "outputs": [
    {
     "data": {
      "text/html": [
       "<div>\n",
       "<style scoped>\n",
       "    .dataframe tbody tr th:only-of-type {\n",
       "        vertical-align: middle;\n",
       "    }\n",
       "\n",
       "    .dataframe tbody tr th {\n",
       "        vertical-align: top;\n",
       "    }\n",
       "\n",
       "    .dataframe thead th {\n",
       "        text-align: right;\n",
       "    }\n",
       "</style>\n",
       "<table border=\"1\" class=\"dataframe\">\n",
       "  <thead>\n",
       "    <tr style=\"text-align: right;\">\n",
       "      <th></th>\n",
       "      <th>Path</th>\n",
       "      <th>Height</th>\n",
       "      <th>Width</th>\n",
       "      <th>ParentPath</th>\n",
       "    </tr>\n",
       "  </thead>\n",
       "  <tbody>\n",
       "    <tr>\n",
       "      <th>0</th>\n",
       "      <td>extended-crowdsourced-images-1\\crowdsource_ima...</td>\n",
       "      <td>900</td>\n",
       "      <td>1600</td>\n",
       "      <td>extended-crowdsourced-images-1\\crowdsource_ima...</td>\n",
       "    </tr>\n",
       "    <tr>\n",
       "      <th>1</th>\n",
       "      <td>extended-crowdsourced-images-1\\crowdsource_ima...</td>\n",
       "      <td>1200</td>\n",
       "      <td>1600</td>\n",
       "      <td>extended-crowdsourced-images-1\\crowdsource_ima...</td>\n",
       "    </tr>\n",
       "    <tr>\n",
       "      <th>2</th>\n",
       "      <td>extended-crowdsourced-images-1\\crowdsource_ima...</td>\n",
       "      <td>1200</td>\n",
       "      <td>1600</td>\n",
       "      <td>extended-crowdsourced-images-1\\crowdsource_ima...</td>\n",
       "    </tr>\n",
       "    <tr>\n",
       "      <th>3</th>\n",
       "      <td>extended-crowdsourced-images-1\\crowdsource_ima...</td>\n",
       "      <td>1200</td>\n",
       "      <td>1600</td>\n",
       "      <td>extended-crowdsourced-images-1\\crowdsource_ima...</td>\n",
       "    </tr>\n",
       "    <tr>\n",
       "      <th>4</th>\n",
       "      <td>extended-crowdsourced-images-1\\crowdsource_ima...</td>\n",
       "      <td>1600</td>\n",
       "      <td>1600</td>\n",
       "      <td>extended-crowdsourced-images-1\\crowdsource_ima...</td>\n",
       "    </tr>\n",
       "  </tbody>\n",
       "</table>\n",
       "</div>"
      ],
      "text/plain": [
       "                                                Path  Height  Width  \\\n",
       "0  extended-crowdsourced-images-1\\crowdsource_ima...     900   1600   \n",
       "1  extended-crowdsourced-images-1\\crowdsource_ima...    1200   1600   \n",
       "2  extended-crowdsourced-images-1\\crowdsource_ima...    1200   1600   \n",
       "3  extended-crowdsourced-images-1\\crowdsource_ima...    1200   1600   \n",
       "4  extended-crowdsourced-images-1\\crowdsource_ima...    1600   1600   \n",
       "\n",
       "                                          ParentPath  \n",
       "0  extended-crowdsourced-images-1\\crowdsource_ima...  \n",
       "1  extended-crowdsourced-images-1\\crowdsource_ima...  \n",
       "2  extended-crowdsourced-images-1\\crowdsource_ima...  \n",
       "3  extended-crowdsourced-images-1\\crowdsource_ima...  \n",
       "4  extended-crowdsourced-images-1\\crowdsource_ima...  "
      ]
     },
     "execution_count": 11,
     "metadata": {},
     "output_type": "execute_result"
    }
   ],
   "source": [
    "df['ParentPath'] = \"extended-crowdsourced-images-1\\crowdsource_images-00000-of-00010/\"\n",
    "df.Path = df.ParentPath + df.Path\n",
    "df.head()"
   ]
  },
  {
   "cell_type": "code",
   "execution_count": 9,
   "metadata": {},
   "outputs": [],
   "source": [
    "out_height = 720\n",
    "out_width = 1280\n",
    "\n",
    "df = df[(df['Width'] >= out_width) & (df['Height'] >= out_height)]\n",
    "df.to_csv(\"./image_data.csv\",index=False)"
   ]
  }
 ],
 "metadata": {
  "kernelspec": {
   "display_name": "Python 3",
   "language": "python",
   "name": "python3"
  },
  "language_info": {
   "codemirror_mode": {
    "name": "ipython",
    "version": 3
   },
   "file_extension": ".py",
   "mimetype": "text/x-python",
   "name": "python",
   "nbconvert_exporter": "python",
   "pygments_lexer": "ipython3",
   "version": "3.7.3"
  }
 },
 "nbformat": 4,
 "nbformat_minor": 4
}

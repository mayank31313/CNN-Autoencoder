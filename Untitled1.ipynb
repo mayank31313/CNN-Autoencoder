{
 "cells": [
  {
   "cell_type": "code",
   "execution_count": 11,
   "metadata": {},
   "outputs": [],
   "source": [
    "'''\n",
    "Created By: Mayank\n",
    "8/4/2019 12:31 AM\n",
    "'''\n",
    "\n",
    "import json\n",
    "from flask import Flask ,request\n",
    "import spacy\n",
    "from spacy.util import minibatch, compounding\n",
    "import random\n",
    "import re"
   ]
  },
  {
   "cell_type": "code",
   "execution_count": 24,
   "metadata": {},
   "outputs": [
    {
     "name": "stdout",
     "output_type": "stream",
     "text": [
      "[['i love java', {'entities': [(7, 11, 'skill')]}], ['i love java', {'entities': [(7, 11, 'skill')]}], ['i love python', {'entities': [(7, 13, 'skill')]}], ['i love matlabi do programming in python', {'entities': [(33, 39, 'skill')]}], ['python is interpreter language', {'entities': [(0, 6, 'skill')]}], ['python is interpreter language', {'entities': [(0, 6, 'skill')]}], ['cpp is procedure oriented', {'entities': [(0, 3, 'skill')]}], ['i do programming in matlab', {'entities': [(20, 26, 'skill')]}], ['i like csharp', {'entities': [(7, 13, 'skill')]}], ['python is going to rule the world', {'entities': [(0, 6, 'skill')]}], ['i do programming in python', {'entities': [(20, 26, 'skill')]}], ['guido van rossom invented python language', {'entities': [(26, 32, 'skill')]}], ['matlab is used for mathematical computation', {'entities': [(0, 6, 'skill')]}], ['java is one of my favourite language', {'entities': [(0, 4, 'skill')]}], ['java is a computer programming language', {'entities': [(0, 4, 'skill')]}]]\n",
      "Loaded model 'en_core_web_lg'\n"
     ]
    }
   ],
   "source": [
    "model = 'en_core_web_lg'\n",
    "skills = {'python','java','matlab','cpp','csharp'}\n",
    "\n",
    "DATA = ['I love java',\n",
    "        'I love Java',\n",
    "        'i love python',\n",
    "        'i love matlab'\n",
    "        'i do programming in python',\n",
    "        'python is interpreter language',\n",
    "        'Python is interpreter language',\n",
    "        'cpp is procedure oriented',\n",
    "        'I do programming in matlab',\n",
    "        'I like csharp',\n",
    "        'python is going to rule the world',\n",
    "        'I do programming in python',\n",
    "        'guido van rossom invented python language',\n",
    "        'matlab is used for mathematical computation',\n",
    "        'Java is one of my favourite language',\n",
    "        'java is a computer programming language',        \n",
    "       ]\n",
    " \n",
    "def intersection(lst1, lst2): \n",
    "    lst3 = [value for value in lst1 if value in lst2] \n",
    "    return lst3\n",
    "\n",
    "TRAIN_DATA = list()\n",
    "\n",
    "for d in DATA:\n",
    "    temp_dict = dict()\n",
    "    ent = list()    \n",
    "    string = d.lower()\n",
    "    elements = intersection(string.split(),list(skills))\n",
    "    for element in elements:\n",
    "        start = string.index(element)\n",
    "        end = start + len(element)\n",
    "\n",
    "        ent.append((start,end,'skill'))\n",
    "    \n",
    "    temp_dict[\"entities\"] = ent\n",
    "    TRAIN_DATA.append([string,temp_dict])\n",
    "\n",
    "\n",
    "print(TRAIN_DATA)\n",
    "if model is not None:\n",
    "    nlp = spacy.load(model)  # load existing spacy model\n",
    "    print(\"Loaded model '%s'\" % model)\n",
    "else:\n",
    "    nlp = spacy.blank('en')  # create blank Language class\n",
    "    print(\"Created blank 'en' model\")\n",
    "    \n",
    "if 'ner' not in nlp.pipe_names:\n",
    "    ner = nlp.create_pipe('ner')\n",
    "    nlp.add_pipe(ner)\n",
    "else:\n",
    "    ner = nlp.get_pipe('ner')\n",
    "\n",
    "for _, annotations in TRAIN_DATA:\n",
    "     for ent in annotations.get('entities'):\n",
    "        ner.add_label(ent[2])"
   ]
  },
  {
   "cell_type": "code",
   "execution_count": 25,
   "metadata": {},
   "outputs": [
    {
     "name": "stdout",
     "output_type": "stream",
     "text": [
      "Losses {'ner': 4.633153899546926}\n",
      "Losses {'ner': 4.200228328081886}\n",
      "Losses {'ner': 4.078408484347165}\n",
      "Losses {'ner': 3.451649009766193}\n",
      "Losses {'ner': 3.6538843621850488}\n",
      "Losses {'ner': 3.1820182241499615}\n",
      "Losses {'ner': 2.7206080548575864}\n",
      "Losses {'ner': 2.9380533059514935}\n",
      "Losses {'ner': 2.8740847849542206}\n",
      "Losses {'ner': 2.529373724760576}\n",
      "Losses {'ner': 2.7645026365262333}\n",
      "Losses {'ner': 2.2740436155778228}\n",
      "Losses {'ner': 2.6387419997434076}\n",
      "Losses {'ner': 2.2109072257881053}\n",
      "Losses {'ner': 2.155848362407991}\n",
      "Losses {'ner': 1.914422304963201}\n",
      "Losses {'ner': 2.0656360310962327}\n",
      "Losses {'ner': 1.6510057038117085}\n",
      "Losses {'ner': 2.469316048232841}\n",
      "Losses {'ner': 2.466803901258423}\n",
      "Losses {'ner': 1.751120384779373}\n",
      "Losses {'ner': 2.0310376733561615}\n",
      "Losses {'ner': 1.9208787564640593}\n",
      "Losses {'ner': 1.3426922600515923}\n",
      "Losses {'ner': 1.9217455946384605}\n",
      "Losses {'ner': 1.7782224866668246}\n",
      "Losses {'ner': 1.8192735800807003}\n",
      "Losses {'ner': 1.8349902289634608}\n",
      "Losses {'ner': 1.6720428059241759}\n",
      "Losses {'ner': 1.840493965893984}\n",
      "Losses {'ner': 1.7246856117417853}\n",
      "Losses {'ner': 2.01287460954169}\n",
      "Losses {'ner': 1.756772407018927}\n",
      "Losses {'ner': 2.1254154519400537}\n",
      "Losses {'ner': 1.745706074535039}\n",
      "Losses {'ner': 1.9591952442239255}\n",
      "Losses {'ner': 1.9844986171810888}\n",
      "Losses {'ner': 1.496136990668254}\n",
      "Losses {'ner': 2.4028664753456908}\n",
      "Losses {'ner': 1.74122379720259}\n",
      "Losses {'ner': 1.7623077035010475}\n",
      "Losses {'ner': 1.63018905051471}\n",
      "Losses {'ner': 2.073507122695446}\n",
      "Losses {'ner': 1.8004142151000173}\n",
      "Losses {'ner': 1.7890844680691422}\n",
      "Losses {'ner': 1.8865855038170805}\n",
      "Losses {'ner': 1.7558071315288546}\n",
      "Losses {'ner': 1.6407860384982484}\n",
      "Losses {'ner': 1.6182135765881867}\n",
      "Losses {'ner': 1.9513887548251443}\n",
      "Entities [('java', 'skill')]\n",
      "Tokens [('java', 'skill', 3), ('is', '', 2), ('a', '', 2), ('computer', '', 2), ('programming', '', 2), ('language', '', 2)]\n",
      "Entities [('java', 'skill')]\n",
      "Tokens [('i', '', 2), ('love', '', 2), ('java', 'skill', 3)]\n",
      "Entities [('python', 'skill')]\n",
      "Tokens [('i', '', 2), ('love', '', 2), ('python', 'skill', 3)]\n",
      "Entities [('python', 'skill')]\n",
      "Tokens [('python', 'skill', 3), ('is', '', 2), ('interpreter', '', 2), ('language', '', 2)]\n",
      "Entities [('java', 'skill')]\n",
      "Tokens [('java', 'skill', 3), ('is', '', 2), ('one', '', 2), ('of', '', 2), ('my', '', 2), ('favourite', '', 2), ('language', '', 2)]\n",
      "Entities [('python', 'skill')]\n",
      "Tokens [('i', '', 2), ('do', '', 2), ('programming', '', 2), ('in', '', 2), ('python', 'skill', 3)]\n",
      "Entities [('python', 'skill')]\n",
      "Tokens [('i', '', 2), ('love', '', 2), ('matlabi', '', 2), ('do', '', 2), ('programming', '', 2), ('in', '', 2), ('python', 'skill', 3)]\n",
      "Entities [('python', 'skill')]\n",
      "Tokens [('python', 'skill', 3), ('is', '', 2), ('going', '', 2), ('to', '', 2), ('rule', '', 2), ('the', '', 2), ('world', '', 2)]\n",
      "Entities [('matlab', 'skill')]\n",
      "Tokens [('matlab', 'skill', 3), ('is', '', 2), ('used', '', 2), ('for', '', 2), ('mathematical', '', 2), ('computation', '', 2)]\n",
      "Entities [('python', 'skill')]\n",
      "Tokens [('python', 'skill', 3), ('is', '', 2), ('interpreter', '', 2), ('language', '', 2)]\n",
      "Entities [('python', 'skill')]\n",
      "Tokens [('guido', '', 2), ('van', '', 2), ('rossom', '', 2), ('invented', '', 2), ('python', 'skill', 3), ('language', '', 2)]\n",
      "Entities [('csharp', 'skill')]\n",
      "Tokens [('i', '', 2), ('like', '', 2), ('csharp', 'skill', 3)]\n",
      "Entities [('cpp', 'skill')]\n",
      "Tokens [('cpp', 'skill', 3), ('is', '', 2), ('procedure', '', 2), ('oriented', '', 2)]\n",
      "Entities [('java', 'skill')]\n",
      "Tokens [('i', '', 2), ('love', '', 2), ('java', 'skill', 3)]\n",
      "Entities [('matlab', 'skill')]\n",
      "Tokens [('i', '', 2), ('do', '', 2), ('programming', '', 2), ('in', '', 2), ('matlab', 'skill', 3)]\n"
     ]
    }
   ],
   "source": [
    "if model is None:\n",
    "    optimizer = nlp.begin_training()\n",
    "else:\n",
    "    optimizer = nlp.entity.create_optimizer()\n",
    "\n",
    "other_pipes = [pipe for pipe in nlp.pipe_names if pipe != 'ner']\n",
    "with nlp.disable_pipes(*other_pipes):  # only train NER\n",
    "    for itn in range(50):\n",
    "        random.shuffle(TRAIN_DATA)\n",
    "        losses = {}\n",
    "        batches = minibatch(TRAIN_DATA,\n",
    "                            size=compounding(4., 32., 1.001))\n",
    "        for batch in batches:\n",
    "            texts, annotations = zip(*batch)\n",
    "            # Updating the weights\n",
    "            nlp.update(texts, annotations, sgd=optimizer,\n",
    "                       drop=0.5, losses=losses)\n",
    "        print('Losses', losses)\n",
    "        \n",
    "for text, _ in TRAIN_DATA:\n",
    "        doc = nlp(text)\n",
    "        print(\"Entities\", [(ent.text, ent.label_) for ent in doc.ents])\n",
    "        print(\"Tokens\", [(t.text, t.ent_type_, t.ent_iob) for t in doc])"
   ]
  },
  {
   "cell_type": "code",
   "execution_count": 26,
   "metadata": {},
   "outputs": [
    {
     "name": "stdout",
     "output_type": "stream",
     "text": [
      "Saved model to ./models\n"
     ]
    }
   ],
   "source": [
    "output_dir = \"./models\"\n",
    "import os\n",
    "import sys\n",
    "\n",
    "if output_dir is not None:\n",
    "    if not os.path.exists(output_dir):\n",
    "        os.mkdir(output_dir)\n",
    "    nlp.meta['name'] = 'nlp_model'  # rename model\n",
    "    nlp.to_disk(output_dir)\n",
    "    print(\"Saved model to\", output_dir)"
   ]
  },
  {
   "cell_type": "code",
   "execution_count": 10,
   "metadata": {},
   "outputs": [
    {
     "data": {
      "text/plain": [
       "<spacy.lang.en.English at 0x20c8b8de438>"
      ]
     },
     "execution_count": 10,
     "metadata": {},
     "output_type": "execute_result"
    }
   ],
   "source": []
  },
  {
   "cell_type": "code",
   "execution_count": 27,
   "metadata": {},
   "outputs": [
    {
     "data": {
      "text/plain": [
       "[('java', 'skill')]"
      ]
     },
     "execution_count": 27,
     "metadata": {},
     "output_type": "execute_result"
    }
   ],
   "source": [
    "nlp = spacy.load('./models/')\n",
    "ner= nlp.create_pipe('ner')\n",
    "\n",
    "[(x.text,x.label_) for x in nlp(u\"\"\"I love java\"\"\".lower()).ents]"
   ]
  }
 ],
 "metadata": {
  "kernelspec": {
   "display_name": "Python 3",
   "language": "python",
   "name": "python3"
  },
  "language_info": {
   "codemirror_mode": {
    "name": "ipython",
    "version": 3
   },
   "file_extension": ".py",
   "mimetype": "text/x-python",
   "name": "python",
   "nbconvert_exporter": "python",
   "pygments_lexer": "ipython3",
   "version": "3.6.8"
  }
 },
 "nbformat": 4,
 "nbformat_minor": 2
}
